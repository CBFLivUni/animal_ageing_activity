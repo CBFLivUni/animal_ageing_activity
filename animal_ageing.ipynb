{
  "cells": [
    {
      "cell_type": "raw",
      "metadata": {},
      "source": [
        "---\n",
        "title: \"An introduction to Python\"\n",
        "author: \"Dr. Emily Johnson\"\n",
        "format:\n",
        "  html:\n",
        "    self-contained: true\n",
        "    theme: cosmo\n",
        "    toc: true\n",
        "    code-fold: false\n",
        "editor: source\n",
        "code-block-bg: true\n",
        "code-block-border-left: \"#31BAE9\"\n",
        "---"
      ],
      "id": "164b874f"
    },
    {
      "cell_type": "markdown",
      "metadata": {},
      "source": [
        "<center>![](images/CBF%20Logo%20Large%20CS4%20test.png){width=\"298\"}</center>\n",
        "\n",
        "# Plotting with Python\n",
        "\n",
        "## Before beginning\n",
        "\n",
        "Please open [this link](https://mybinder.org/v2/gh/CBFLivUni/scholars_event/0e2e1f39a4c0d8f4d43c8ebf6c332cd1bb73022b?urlpath=lab%2Ftree%2Findex.ipynb) if you haven't already and let it run in the background.\n",
        "\n",
        "## Introduction\n",
        "\n",
        "Graphs are extremely important for communicating data quickly and effectively. You might have created a graph in MicroSoft Excel before. When you do, you have to click around the software to modify the graph's appearance and what data it uses. This might not take too much time if you're only doing it once but what if you had to make similar graphs another ten times? A hundred times? Or a thousand times? The process would quickly get very boring, take a lot of time, and you'd be more likely to make mistakes!\n",
        "\n",
        "We can use Python to write programs that plot our data. The program acts as instructions to create the graph. It's very customisable and you can use the same code over and over again! Many of the graphs and visualisations you see in magazines, newspapers and social media are created using programming. Data scientists and statisticians create graphs to communicate data to doctors, politicians, CEOs, etc., to influence important decisions.\n",
        "\n",
        "In this activity you are going to create your own graphs using Python.\n",
        "\n",
        "Don't feel nervous if this is your first time using Python and you don't understand all the code (*this is a normal feeling for programmers too*). You won't be asked to write your own from scratch, only to edit what we give you.\n",
        "\n",
        "<br> <br>\n",
        "\n",
        "## Animal ageing\n",
        "\n",
        "The oldest human ever was a French woman named Jeanne Calment. She lived to the age of <b>122 years and 164 days.</b> Whilst humans can be very long-lived, some animals can live even longer. Understanding what makes these animals live for so long could be important for letting us live longer and healthier lifespans. Below are some examples of long-lived animals:\n",
        "\n",
        "<br>\n",
        "\n",
        "<center>\n",
        "\n",
        "![](images/long_lived_animals.png)\n",
        "\n",
        "</center>\n",
        "\n",
        "<br>\n",
        "\n",
        "We are going to create plots to show the maximum lifespan of various animals, both long-lived and short-lived. We will customise our plots in various ways.\n",
        "\n",
        "Learning objectives:\n",
        "\n",
        "-   To understand which types of animals live the longest\n",
        "\n",
        "-   To have an introduction to Python\n",
        "\n",
        "-   To use Python to create plots of animal maximum ages\n",
        "\n",
        "<br>\n",
        "\n",
        "<br>\n",
        "\n",
        "### Load packages\n",
        "\n",
        "Python does not know how to process and plot data on its own. Python packages contain additional commands that don’t come installed with Python, and allow us to carry out certain extra tasks. In this activity we're going to need to load two known as `pandas` and `matplotlib`. `Pandas` is a package that lets python read and edit data, much like you'd use Excel to process raw data. `Matplotlib` is the package that then lets us plot the data. We can load them by pasting the following code into our first chunk and pressing the play button:\n"
      ],
      "id": "78c8e04f"
    },
    {
      "cell_type": "code",
      "metadata": {},
      "source": [
        "#| eval: false\n",
        "\n",
        "import matplotlib.pyplot as plt\n",
        "import pandas as pd"
      ],
      "id": "55839f9f",
      "execution_count": null,
      "outputs": []
    }
  ],
  "metadata": {
    "kernelspec": {
      "name": "python3",
      "language": "python",
      "display_name": "Python 3 (ipykernel)"
    }
  },
  "nbformat": 4,
  "nbformat_minor": 5
}